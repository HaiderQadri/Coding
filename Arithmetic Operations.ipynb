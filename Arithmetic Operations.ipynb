{
 "cells": [
  {
   "cell_type": "code",
   "execution_count": 2,
   "id": "bb16f4f0",
   "metadata": {},
   "outputs": [],
   "source": [
    "a=10//5  # // is used for integer division"
   ]
  },
  {
   "cell_type": "code",
   "execution_count": 3,
   "id": "b81b8c08",
   "metadata": {},
   "outputs": [
    {
     "name": "stdout",
     "output_type": "stream",
     "text": [
      "2\n"
     ]
    }
   ],
   "source": [
    "print(a)"
   ]
  },
  {
   "cell_type": "code",
   "execution_count": 8,
   "id": "f715a216",
   "metadata": {},
   "outputs": [],
   "source": [
    "a=11%5  # % is used for remainder"
   ]
  },
  {
   "cell_type": "code",
   "execution_count": 10,
   "id": "123236b3",
   "metadata": {},
   "outputs": [
    {
     "name": "stdout",
     "output_type": "stream",
     "text": [
      "1\n"
     ]
    }
   ],
   "source": [
    "print(a)"
   ]
  },
  {
   "cell_type": "code",
   "execution_count": 13,
   "id": "d4286ea4",
   "metadata": {},
   "outputs": [],
   "source": [
    "a=4*5  # * is used for multiplication"
   ]
  },
  {
   "cell_type": "code",
   "execution_count": 14,
   "id": "f957ef59",
   "metadata": {},
   "outputs": [
    {
     "name": "stdout",
     "output_type": "stream",
     "text": [
      "20\n"
     ]
    }
   ],
   "source": [
    "print(a)"
   ]
  },
  {
   "cell_type": "code",
   "execution_count": 17,
   "id": "0b5906b4",
   "metadata": {},
   "outputs": [],
   "source": [
    "a=5**2 # ** is used for square root"
   ]
  },
  {
   "cell_type": "code",
   "execution_count": 18,
   "id": "c88feedd",
   "metadata": {},
   "outputs": [
    {
     "name": "stdout",
     "output_type": "stream",
     "text": [
      "25\n"
     ]
    }
   ],
   "source": [
    "print(a)"
   ]
  },
  {
   "cell_type": "code",
   "execution_count": 11,
   "id": "acb392b7",
   "metadata": {},
   "outputs": [],
   "source": [
    "a=4+5 # + for addition"
   ]
  },
  {
   "cell_type": "code",
   "execution_count": 12,
   "id": "07fb977e",
   "metadata": {},
   "outputs": [
    {
     "name": "stdout",
     "output_type": "stream",
     "text": [
      "9\n"
     ]
    }
   ],
   "source": [
    "print(a)"
   ]
  },
  {
   "cell_type": "code",
   "execution_count": null,
   "id": "45be70cc",
   "metadata": {},
   "outputs": [],
   "source": []
  }
 ],
 "metadata": {
  "kernelspec": {
   "display_name": "Python 3 (ipykernel)",
   "language": "python",
   "name": "python3"
  },
  "language_info": {
   "codemirror_mode": {
    "name": "ipython",
    "version": 3
   },
   "file_extension": ".py",
   "mimetype": "text/x-python",
   "name": "python",
   "nbconvert_exporter": "python",
   "pygments_lexer": "ipython3",
   "version": "3.9.7"
  }
 },
 "nbformat": 4,
 "nbformat_minor": 5
}
