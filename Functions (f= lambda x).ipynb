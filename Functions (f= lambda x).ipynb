{
 "cells": [
  {
   "cell_type": "code",
   "execution_count": 1,
   "id": "0f362f14",
   "metadata": {},
   "outputs": [],
   "source": [
    "import numpy as np"
   ]
  },
  {
   "cell_type": "code",
   "execution_count": 2,
   "id": "97036707",
   "metadata": {},
   "outputs": [],
   "source": [
    "import matplotlib.pyplot as plt"
   ]
  },
  {
   "cell_type": "code",
   "execution_count": 19,
   "id": "c2cec977",
   "metadata": {},
   "outputs": [],
   "source": [
    "import math"
   ]
  },
  {
   "cell_type": "code",
   "execution_count": 3,
   "id": "aa84990d",
   "metadata": {},
   "outputs": [],
   "source": [
    "x=5"
   ]
  },
  {
   "cell_type": "code",
   "execution_count": 4,
   "id": "a7573657",
   "metadata": {},
   "outputs": [],
   "source": [
    "f= lambda x:x**2+1"
   ]
  },
  {
   "cell_type": "code",
   "execution_count": 5,
   "id": "f4b0e57e",
   "metadata": {},
   "outputs": [
    {
     "name": "stdout",
     "output_type": "stream",
     "text": [
      "26\n"
     ]
    }
   ],
   "source": [
    "print(f(x))"
   ]
  },
  {
   "cell_type": "code",
   "execution_count": 6,
   "id": "e9282360",
   "metadata": {},
   "outputs": [],
   "source": [
    "x=3"
   ]
  },
  {
   "cell_type": "code",
   "execution_count": 14,
   "id": "8005a514",
   "metadata": {},
   "outputs": [],
   "source": [
    "f= lambda x:x**3+x**2+1"
   ]
  },
  {
   "cell_type": "code",
   "execution_count": 15,
   "id": "b47342a7",
   "metadata": {},
   "outputs": [
    {
     "name": "stdout",
     "output_type": "stream",
     "text": [
      "37\n"
     ]
    }
   ],
   "source": [
    "print(f(x))"
   ]
  },
  {
   "cell_type": "code",
   "execution_count": 16,
   "id": "f42db369",
   "metadata": {},
   "outputs": [],
   "source": [
    "x=6"
   ]
  },
  {
   "cell_type": "code",
   "execution_count": 17,
   "id": "d5716215",
   "metadata": {},
   "outputs": [],
   "source": [
    "f= lambda x:3*(x**4)-7*(x**3)+9*(x**2)+85"
   ]
  },
  {
   "cell_type": "code",
   "execution_count": 18,
   "id": "ad5058e7",
   "metadata": {},
   "outputs": [
    {
     "name": "stdout",
     "output_type": "stream",
     "text": [
      "2785\n"
     ]
    }
   ],
   "source": [
    "print(f(x))"
   ]
  },
  {
   "cell_type": "code",
   "execution_count": 32,
   "id": "5f0581d3",
   "metadata": {},
   "outputs": [],
   "source": [
    "x=math.pi/2"
   ]
  },
  {
   "cell_type": "code",
   "execution_count": 33,
   "id": "a2cd72a7",
   "metadata": {},
   "outputs": [],
   "source": [
    "f= lambda x:math.sin(x)"
   ]
  },
  {
   "cell_type": "code",
   "execution_count": 34,
   "id": "c339b4f9",
   "metadata": {},
   "outputs": [
    {
     "name": "stdout",
     "output_type": "stream",
     "text": [
      "1.0\n"
     ]
    }
   ],
   "source": [
    "print(f(x))"
   ]
  },
  {
   "cell_type": "code",
   "execution_count": 35,
   "id": "56d90779",
   "metadata": {},
   "outputs": [],
   "source": [
    "x=math.pi"
   ]
  },
  {
   "cell_type": "code",
   "execution_count": 36,
   "id": "6ad5ab62",
   "metadata": {},
   "outputs": [],
   "source": [
    "f= lambda x:math.cos(x)"
   ]
  },
  {
   "cell_type": "code",
   "execution_count": 38,
   "id": "71649a27",
   "metadata": {},
   "outputs": [
    {
     "name": "stdout",
     "output_type": "stream",
     "text": [
      "-1.0\n"
     ]
    }
   ],
   "source": [
    "print(f(x))"
   ]
  },
  {
   "cell_type": "code",
   "execution_count": 39,
   "id": "71af95e3",
   "metadata": {},
   "outputs": [],
   "source": [
    "x=10"
   ]
  },
  {
   "cell_type": "code",
   "execution_count": 42,
   "id": "0d7f154d",
   "metadata": {},
   "outputs": [],
   "source": [
    "f= lambda x:(1/x)-1"
   ]
  },
  {
   "cell_type": "code",
   "execution_count": 43,
   "id": "6a005eca",
   "metadata": {},
   "outputs": [
    {
     "name": "stdout",
     "output_type": "stream",
     "text": [
      "-0.9\n"
     ]
    }
   ],
   "source": [
    "print(f(x))"
   ]
  },
  {
   "cell_type": "code",
   "execution_count": null,
   "id": "2cf27ee3",
   "metadata": {},
   "outputs": [],
   "source": []
  }
 ],
 "metadata": {
  "kernelspec": {
   "display_name": "Python 3 (ipykernel)",
   "language": "python",
   "name": "python3"
  },
  "language_info": {
   "codemirror_mode": {
    "name": "ipython",
    "version": 3
   },
   "file_extension": ".py",
   "mimetype": "text/x-python",
   "name": "python",
   "nbconvert_exporter": "python",
   "pygments_lexer": "ipython3",
   "version": "3.9.7"
  }
 },
 "nbformat": 4,
 "nbformat_minor": 5
}
