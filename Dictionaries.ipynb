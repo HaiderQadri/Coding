{
 "cells": [
  {
   "cell_type": "code",
   "execution_count": 1,
   "id": "2963df23",
   "metadata": {},
   "outputs": [],
   "source": [
    "# Dictionaries"
   ]
  },
  {
   "cell_type": "code",
   "execution_count": 2,
   "id": "323e1111",
   "metadata": {},
   "outputs": [],
   "source": [
    "d = {'Capital of Pakistan':'Islamabad','City of lights':'Karachi'}"
   ]
  },
  {
   "cell_type": "code",
   "execution_count": 3,
   "id": "7a14ef96",
   "metadata": {},
   "outputs": [
    {
     "name": "stdout",
     "output_type": "stream",
     "text": [
      "{'Capital of Pakistan': 'Islamabad', 'City of lights': 'Karachi'}\n"
     ]
    }
   ],
   "source": [
    "print(d)"
   ]
  },
  {
   "cell_type": "code",
   "execution_count": 7,
   "id": "f8f83781",
   "metadata": {},
   "outputs": [
    {
     "name": "stdout",
     "output_type": "stream",
     "text": [
      "Islamabad\n"
     ]
    }
   ],
   "source": [
    "print(d['Capital of Pakistan'])"
   ]
  },
  {
   "cell_type": "code",
   "execution_count": 9,
   "id": "37e5959d",
   "metadata": {},
   "outputs": [
    {
     "name": "stdout",
     "output_type": "stream",
     "text": [
      "Karachi\n"
     ]
    }
   ],
   "source": [
    "print(d['City of lights'])"
   ]
  },
  {
   "cell_type": "code",
   "execution_count": 14,
   "id": "cbc6db5a",
   "metadata": {},
   "outputs": [],
   "source": [
    "d = {'class':'students','liberary':'books','Ahmad':'friend'}"
   ]
  },
  {
   "cell_type": "code",
   "execution_count": 11,
   "id": "378f5ff2",
   "metadata": {},
   "outputs": [
    {
     "name": "stdout",
     "output_type": "stream",
     "text": [
      "students\n"
     ]
    }
   ],
   "source": [
    "print(d['class'])"
   ]
  },
  {
   "cell_type": "code",
   "execution_count": 15,
   "id": "1c3298e8",
   "metadata": {},
   "outputs": [
    {
     "name": "stdout",
     "output_type": "stream",
     "text": [
      "friend\n"
     ]
    }
   ],
   "source": [
    "print(d['Ahmad'])"
   ]
  },
  {
   "cell_type": "code",
   "execution_count": 16,
   "id": "d550296d",
   "metadata": {},
   "outputs": [
    {
     "name": "stdout",
     "output_type": "stream",
     "text": [
      "books\n"
     ]
    }
   ],
   "source": [
    "print(d['liberary'])"
   ]
  },
  {
   "cell_type": "code",
   "execution_count": null,
   "id": "44bf3ac4",
   "metadata": {},
   "outputs": [],
   "source": []
  }
 ],
 "metadata": {
  "kernelspec": {
   "display_name": "Python 3 (ipykernel)",
   "language": "python",
   "name": "python3"
  },
  "language_info": {
   "codemirror_mode": {
    "name": "ipython",
    "version": 3
   },
   "file_extension": ".py",
   "mimetype": "text/x-python",
   "name": "python",
   "nbconvert_exporter": "python",
   "pygments_lexer": "ipython3",
   "version": "3.9.7"
  }
 },
 "nbformat": 4,
 "nbformat_minor": 5
}
