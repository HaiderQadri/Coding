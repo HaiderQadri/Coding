{
 "cells": [
  {
   "cell_type": "code",
   "execution_count": 2,
   "id": "0685678f",
   "metadata": {},
   "outputs": [
    {
     "name": "stdout",
     "output_type": "stream",
     "text": [
      "<class 'bool'>\n",
      "True\n",
      "False\n",
      "False\n",
      "False\n",
      "True\n",
      "True\n",
      "False\n",
      "False\n",
      "True\n"
     ]
    }
   ],
   "source": [
    "a = True          #assign true value t a\n",
    "b = False         #assign false value to b\n",
    "print(type(a))    # print type of a \n",
    "print (a and a)   # and condition return true if both are true\n",
    "print (a and b)   # return true if both a and b is true\n",
    "print (b and a)   # return true if both a and b is true\n",
    "print (b and a)   # return true if both a and b is true\n",
    "print ( a or b)   #or condition return true if any condition is true and return false if both conditions are false\n",
    "print ( a or b)   #or condition return true if any condition is true and return false if both conditions are false\n",
    "print ( b or b)   #or condition return true if any condition is true and return false if both conditions are false\n",
    "print (not a)     #reverse the result of condition\n",
    "print (a != b)    #return true if value on left is not equal to right"
   ]
  },
  {
   "cell_type": "code",
   "execution_count": 34,
   "id": "89a963db",
   "metadata": {},
   "outputs": [],
   "source": [
    "a=\"true\"\n",
    "b=\"true\"\n",
    "c=\"false\""
   ]
  },
  {
   "cell_type": "code",
   "execution_count": 35,
   "id": "5698ecd6",
   "metadata": {},
   "outputs": [
    {
     "name": "stdout",
     "output_type": "stream",
     "text": [
      "<class 'str'>\n",
      "<class 'str'>\n",
      "<class 'str'>\n"
     ]
    }
   ],
   "source": [
    "print(type(a))\n",
    "print(type(b))\n",
    "print(type(c))"
   ]
  },
  {
   "cell_type": "code",
   "execution_count": 36,
   "id": "5ca80c4a",
   "metadata": {},
   "outputs": [],
   "source": [
    "x1= a and b and c"
   ]
  },
  {
   "cell_type": "code",
   "execution_count": 37,
   "id": "c68e861d",
   "metadata": {},
   "outputs": [
    {
     "data": {
      "text/plain": [
       "'false'"
      ]
     },
     "execution_count": 37,
     "metadata": {},
     "output_type": "execute_result"
    }
   ],
   "source": [
    "x1"
   ]
  },
  {
   "cell_type": "code",
   "execution_count": 38,
   "id": "3a47a153",
   "metadata": {},
   "outputs": [],
   "source": [
    "x2= a and b or c"
   ]
  },
  {
   "cell_type": "code",
   "execution_count": 39,
   "id": "cb4a4cc8",
   "metadata": {},
   "outputs": [
    {
     "data": {
      "text/plain": [
       "'true'"
      ]
     },
     "execution_count": 39,
     "metadata": {},
     "output_type": "execute_result"
    }
   ],
   "source": [
    "x2"
   ]
  },
  {
   "cell_type": "code",
   "execution_count": 40,
   "id": "c8cf9bb4",
   "metadata": {},
   "outputs": [],
   "source": [
    "x3= a or b and c"
   ]
  },
  {
   "cell_type": "code",
   "execution_count": 41,
   "id": "98dc7648",
   "metadata": {},
   "outputs": [
    {
     "data": {
      "text/plain": [
       "'true'"
      ]
     },
     "execution_count": 41,
     "metadata": {},
     "output_type": "execute_result"
    }
   ],
   "source": [
    "x3"
   ]
  },
  {
   "cell_type": "code",
   "execution_count": 42,
   "id": "6b804018",
   "metadata": {},
   "outputs": [],
   "source": [
    "x4= a or b or c"
   ]
  },
  {
   "cell_type": "code",
   "execution_count": 43,
   "id": "d7a012ef",
   "metadata": {},
   "outputs": [
    {
     "data": {
      "text/plain": [
       "'true'"
      ]
     },
     "execution_count": 43,
     "metadata": {},
     "output_type": "execute_result"
    }
   ],
   "source": [
    "x4"
   ]
  },
  {
   "cell_type": "code",
   "execution_count": 52,
   "id": "e3402f35",
   "metadata": {},
   "outputs": [
    {
     "data": {
      "text/plain": [
       "False"
      ]
     },
     "execution_count": 52,
     "metadata": {},
     "output_type": "execute_result"
    }
   ],
   "source": [
    "a!=b"
   ]
  },
  {
   "cell_type": "code",
   "execution_count": 53,
   "id": "d28366b4",
   "metadata": {},
   "outputs": [
    {
     "data": {
      "text/plain": [
       "True"
      ]
     },
     "execution_count": 53,
     "metadata": {},
     "output_type": "execute_result"
    }
   ],
   "source": [
    "b!=c"
   ]
  },
  {
   "cell_type": "code",
   "execution_count": null,
   "id": "43749dc7",
   "metadata": {},
   "outputs": [],
   "source": []
  }
 ],
 "metadata": {
  "kernelspec": {
   "display_name": "Python 3 (ipykernel)",
   "language": "python",
   "name": "python3"
  },
  "language_info": {
   "codemirror_mode": {
    "name": "ipython",
    "version": 3
   },
   "file_extension": ".py",
   "mimetype": "text/x-python",
   "name": "python",
   "nbconvert_exporter": "python",
   "pygments_lexer": "ipython3",
   "version": "3.9.7"
  }
 },
 "nbformat": 4,
 "nbformat_minor": 5
}
