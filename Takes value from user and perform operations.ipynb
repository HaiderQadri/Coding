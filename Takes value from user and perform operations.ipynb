{
 "cells": [
  {
   "cell_type": "code",
   "execution_count": 1,
   "id": "369ad347",
   "metadata": {},
   "outputs": [],
   "source": [
    "import numpy as np"
   ]
  },
  {
   "cell_type": "code",
   "execution_count": 3,
   "id": "c3a72a9c",
   "metadata": {},
   "outputs": [],
   "source": [
    "import matplotlib.pyplot as plt"
   ]
  },
  {
   "cell_type": "code",
   "execution_count": 23,
   "id": "dd063e81",
   "metadata": {},
   "outputs": [],
   "source": [
    "import math"
   ]
  },
  {
   "cell_type": "code",
   "execution_count": 17,
   "id": "cbfe192b",
   "metadata": {},
   "outputs": [
    {
     "name": "stdout",
     "output_type": "stream",
     "text": [
      "Enter value of x1:10\n"
     ]
    }
   ],
   "source": [
    "x1= int(input(\"Enter value of x1:\"))"
   ]
  },
  {
   "cell_type": "code",
   "execution_count": 18,
   "id": "24a350ee",
   "metadata": {},
   "outputs": [
    {
     "name": "stdout",
     "output_type": "stream",
     "text": [
      "enter value of x2:20\n"
     ]
    }
   ],
   "source": [
    "x2= int(input(\"enter value of x2:\"))"
   ]
  },
  {
   "cell_type": "code",
   "execution_count": 19,
   "id": "a098aab2",
   "metadata": {},
   "outputs": [
    {
     "name": "stdout",
     "output_type": "stream",
     "text": [
      "enter value of x3:30\n"
     ]
    }
   ],
   "source": [
    "x3= int(input(\"enter value of x3:\"))"
   ]
  },
  {
   "cell_type": "code",
   "execution_count": 20,
   "id": "ee9dc12b",
   "metadata": {},
   "outputs": [],
   "source": [
    "sum=x1+x2+x3"
   ]
  },
  {
   "cell_type": "code",
   "execution_count": 22,
   "id": "18927c6e",
   "metadata": {},
   "outputs": [
    {
     "name": "stdout",
     "output_type": "stream",
     "text": [
      "60\n"
     ]
    }
   ],
   "source": [
    "print(sum)"
   ]
  },
  {
   "cell_type": "code",
   "execution_count": 26,
   "id": "99ad8143",
   "metadata": {},
   "outputs": [
    {
     "name": "stdout",
     "output_type": "stream",
     "text": [
      "enter x:3.9\n"
     ]
    }
   ],
   "source": [
    "x= float(input(\"enter x:\"))"
   ]
  },
  {
   "cell_type": "code",
   "execution_count": 27,
   "id": "c9fbf36c",
   "metadata": {},
   "outputs": [],
   "source": [
    "f= lambda x:x**2+3"
   ]
  },
  {
   "cell_type": "code",
   "execution_count": 28,
   "id": "7739109b",
   "metadata": {},
   "outputs": [
    {
     "name": "stdout",
     "output_type": "stream",
     "text": [
      "18.21\n"
     ]
    }
   ],
   "source": [
    "print(f(x))"
   ]
  },
  {
   "cell_type": "code",
   "execution_count": 29,
   "id": "7a3255e3",
   "metadata": {},
   "outputs": [
    {
     "name": "stdout",
     "output_type": "stream",
     "text": [
      "enter a:4\n"
     ]
    }
   ],
   "source": [
    "a= int(input(\"enter a:\"))"
   ]
  },
  {
   "cell_type": "code",
   "execution_count": 30,
   "id": "30c97ff4",
   "metadata": {},
   "outputs": [
    {
     "name": "stdout",
     "output_type": "stream",
     "text": [
      "enter b:16\n"
     ]
    }
   ],
   "source": [
    "b= int(input(\"enter b:\"))"
   ]
  },
  {
   "cell_type": "code",
   "execution_count": 31,
   "id": "50e350ff",
   "metadata": {},
   "outputs": [],
   "source": [
    "f= lambda a,b:a+b"
   ]
  },
  {
   "cell_type": "code",
   "execution_count": 32,
   "id": "28154f07",
   "metadata": {},
   "outputs": [
    {
     "name": "stdout",
     "output_type": "stream",
     "text": [
      "20\n"
     ]
    }
   ],
   "source": [
    "print(f(a,b))"
   ]
  },
  {
   "cell_type": "code",
   "execution_count": 33,
   "id": "3e9b132e",
   "metadata": {},
   "outputs": [],
   "source": [
    "f= lambda a,b:a**2+b**2"
   ]
  },
  {
   "cell_type": "code",
   "execution_count": 34,
   "id": "2d3e9457",
   "metadata": {},
   "outputs": [
    {
     "name": "stdout",
     "output_type": "stream",
     "text": [
      "272\n"
     ]
    }
   ],
   "source": [
    "print(f(a,b))"
   ]
  },
  {
   "cell_type": "code",
   "execution_count": 35,
   "id": "c60f05a8",
   "metadata": {},
   "outputs": [],
   "source": [
    "f= lambda a,b:b/a"
   ]
  },
  {
   "cell_type": "code",
   "execution_count": 36,
   "id": "8a2f54d1",
   "metadata": {},
   "outputs": [
    {
     "name": "stdout",
     "output_type": "stream",
     "text": [
      "4.0\n"
     ]
    }
   ],
   "source": [
    "print(f(a,b))"
   ]
  },
  {
   "cell_type": "code",
   "execution_count": null,
   "id": "0edfee85",
   "metadata": {},
   "outputs": [],
   "source": []
  }
 ],
 "metadata": {
  "kernelspec": {
   "display_name": "Python 3 (ipykernel)",
   "language": "python",
   "name": "python3"
  },
  "language_info": {
   "codemirror_mode": {
    "name": "ipython",
    "version": 3
   },
   "file_extension": ".py",
   "mimetype": "text/x-python",
   "name": "python",
   "nbconvert_exporter": "python",
   "pygments_lexer": "ipython3",
   "version": "3.9.7"
  }
 },
 "nbformat": 4,
 "nbformat_minor": 5
}
